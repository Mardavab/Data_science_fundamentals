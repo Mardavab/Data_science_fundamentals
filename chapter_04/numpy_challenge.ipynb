{
  "nbformat": 4,
  "nbformat_minor": 0,
  "metadata": {
    "colab": {
      "name": "numpy_challenge.ipynb",
      "provenance": [],
      "include_colab_link": true
    },
    "kernelspec": {
      "name": "python3",
      "display_name": "Python 3"
    }
  },
  "cells": [
    {
      "cell_type": "markdown",
      "metadata": {
        "id": "view-in-github",
        "colab_type": "text"
      },
      "source": [
        "<a href=\"https://colab.research.google.com/github/Mardavab/data_science_fundamentals/blob/main/chapter_04/numpy_challenge.ipynb\" target=\"_parent\"><img src=\"https://colab.research.google.com/assets/colab-badge.svg\" alt=\"Open In Colab\"/></a>"
      ]
    },
    {
      "cell_type": "markdown",
      "metadata": {
        "id": "sVyBG_cKTAwL"
      },
      "source": [
        "#NumPy Challenge"
      ]
    },
    {
      "cell_type": "markdown",
      "metadata": {
        "id": "NSnRQUO1RDEh"
      },
      "source": [
        "Create a NumPy ndarray object by using this list of numbers [7,8,4,5,1,2].\n"
      ]
    },
    {
      "cell_type": "code",
      "source": [],
      "metadata": {
        "id": "q6yw7cu6dSC9"
      },
      "execution_count": null,
      "outputs": []
    },
    {
      "cell_type": "code",
      "metadata": {
        "id": "P-2GBUw-Q60r",
        "colab": {
          "base_uri": "https://localhost:8080/"
        },
        "outputId": "fde32e16-11c3-43bf-c890-a3d57f606601"
      },
      "source": [
        "import numpy as np\n",
        "arr = np.array([7,8,4,5,1,2])\n",
        "print(arr)"
      ],
      "execution_count": 1,
      "outputs": [
        {
          "output_type": "stream",
          "name": "stdout",
          "text": [
            "[7 8 4 5 1 2]\n"
          ]
        }
      ]
    },
    {
      "cell_type": "markdown",
      "metadata": {
        "id": "zSoe7IVrQ9Gw"
      },
      "source": [
        "Using slicing print the elements from index 3 to the end of the array.\n",
        "\n"
      ]
    },
    {
      "cell_type": "code",
      "metadata": {
        "id": "XUVmHemyRM_K",
        "colab": {
          "base_uri": "https://localhost:8080/"
        },
        "outputId": "3b0e879b-b9b9-47b4-d32b-59803be3372f"
      },
      "source": [
        "print(arr[3:])"
      ],
      "execution_count": 2,
      "outputs": [
        {
          "output_type": "stream",
          "name": "stdout",
          "text": [
            "[5 1 2]\n"
          ]
        }
      ]
    },
    {
      "cell_type": "markdown",
      "metadata": {
        "id": "DejW1hk-ROcM"
      },
      "source": [
        "Using slicing print all the elements except the last one.\n",
        "\n"
      ]
    },
    {
      "cell_type": "code",
      "metadata": {
        "id": "W-1sPgknSbQg",
        "colab": {
          "base_uri": "https://localhost:8080/"
        },
        "outputId": "66ad7318-03b4-42e8-98c2-907dbd6d44e1"
      },
      "source": [
        "print(arr[0:-1])"
      ],
      "execution_count": 3,
      "outputs": [
        {
          "output_type": "stream",
          "name": "stdout",
          "text": [
            "[7 8 4 5 1]\n"
          ]
        }
      ]
    },
    {
      "cell_type": "markdown",
      "metadata": {
        "id": "kTE3PxezRSFu"
      },
      "source": [
        "Using slicing print the elements from index 1 to index 4 of the array.\n",
        "\n"
      ]
    },
    {
      "cell_type": "code",
      "metadata": {
        "id": "KyuRjCKBRWNO",
        "colab": {
          "base_uri": "https://localhost:8080/"
        },
        "outputId": "8fc1c79d-6f4f-4786-8e2d-ac64b53208a8"
      },
      "source": [
        "print(arr[1:5])"
      ],
      "execution_count": 4,
      "outputs": [
        {
          "output_type": "stream",
          "name": "stdout",
          "text": [
            "[8 4 5 1]\n"
          ]
        }
      ]
    },
    {
      "cell_type": "markdown",
      "metadata": {
        "id": "HlHIAmE3RW9U"
      },
      "source": [
        "Reshape the array into a 3 rows and 2 cols (3,2).\n",
        "\n"
      ]
    },
    {
      "cell_type": "code",
      "metadata": {
        "id": "Mh65VUorRZV6",
        "colab": {
          "base_uri": "https://localhost:8080/"
        },
        "outputId": "69e8bdfd-f8eb-422f-c71f-0e7793f484c0"
      },
      "source": [
        "newarr = arr.reshape(3,2)\n",
        "print(newarr)\n"
      ],
      "execution_count": 7,
      "outputs": [
        {
          "output_type": "stream",
          "name": "stdout",
          "text": [
            "[[7 8]\n",
            " [4 5]\n",
            " [1 2]]\n"
          ]
        }
      ]
    },
    {
      "cell_type": "markdown",
      "metadata": {
        "id": "7EA2AxnKRZ-B"
      },
      "source": [
        "Print all the array elements one by one (iterating).\n",
        "\n"
      ]
    },
    {
      "cell_type": "code",
      "metadata": {
        "id": "NA_5SBc9SFNn",
        "colab": {
          "base_uri": "https://localhost:8080/"
        },
        "outputId": "63bd328d-f46a-4ae6-9bd9-364362993943"
      },
      "source": [
        "for i in arr:\n",
        "  print(i)"
      ],
      "execution_count": 8,
      "outputs": [
        {
          "output_type": "stream",
          "name": "stdout",
          "text": [
            "7\n",
            "8\n",
            "4\n",
            "5\n",
            "1\n",
            "2\n"
          ]
        }
      ]
    },
    {
      "cell_type": "markdown",
      "metadata": {
        "id": "gmDsX1y1RcsQ"
      },
      "source": [
        "Create a new NumPy ndarray object by using this list of numbers [0,6,9].\n",
        "\n"
      ]
    },
    {
      "cell_type": "code",
      "metadata": {
        "id": "VmE_QUleSD_P",
        "colab": {
          "base_uri": "https://localhost:8080/"
        },
        "outputId": "c45ffe02-2942-488d-b9e8-7a3c23f975fe"
      },
      "source": [
        "newarr = np.array([0,6,9])\n",
        "newarr"
      ],
      "execution_count": 10,
      "outputs": [
        {
          "output_type": "execute_result",
          "data": {
            "text/plain": [
              "array([0, 6, 9])"
            ]
          },
          "metadata": {},
          "execution_count": 10
        }
      ]
    },
    {
      "cell_type": "markdown",
      "metadata": {
        "id": "jloT--lqRf7j"
      },
      "source": [
        "Join the two arrays.\n",
        "\n"
      ]
    },
    {
      "cell_type": "code",
      "metadata": {
        "id": "unD39X5dSDSn",
        "colab": {
          "base_uri": "https://localhost:8080/"
        },
        "outputId": "8b133da5-437a-4da5-ea52-00b0679bc2a6"
      },
      "source": [
        "C_array = np.concatenate((arr, newarr))\n",
        "C_array"
      ],
      "execution_count": 11,
      "outputs": [
        {
          "output_type": "execute_result",
          "data": {
            "text/plain": [
              "array([7, 8, 4, 5, 1, 2, 0, 6, 9])"
            ]
          },
          "metadata": {},
          "execution_count": 11
        }
      ]
    },
    {
      "cell_type": "markdown",
      "metadata": {
        "id": "XfoeRhPERjPR"
      },
      "source": [
        "\n",
        "\n",
        "\n",
        "Using filtering print only the odd numbers of the joined array.\n",
        "\n"
      ]
    },
    {
      "cell_type": "code",
      "metadata": {
        "id": "Be-oEmWNSCKG",
        "colab": {
          "base_uri": "https://localhost:8080/"
        },
        "outputId": "f1dc2a10-dba4-4c21-d12b-a47f19a9d162"
      },
      "source": [
        "arr = np.array([7, 8, 4, 5, 1, 2, 0, 6, 9])\n",
        "x = np.where(arr%2 == 1)\n",
        "for i in x:\n",
        "  print(arr[x])\n",
        "\n"
      ],
      "execution_count": 23,
      "outputs": [
        {
          "output_type": "stream",
          "name": "stdout",
          "text": [
            "[7 5 1 9]\n"
          ]
        }
      ]
    },
    {
      "cell_type": "markdown",
      "metadata": {
        "id": "cMZHbF4JRlwJ"
      },
      "source": [
        "Sort the joined array elements.\n",
        "\n"
      ]
    },
    {
      "cell_type": "code",
      "metadata": {
        "id": "d3ta_UTjSBb3",
        "colab": {
          "base_uri": "https://localhost:8080/"
        },
        "outputId": "1178b9c0-a10e-4375-e07d-a942579035f8"
      },
      "source": [
        "print(np.sort(arr))"
      ],
      "execution_count": 24,
      "outputs": [
        {
          "output_type": "stream",
          "name": "stdout",
          "text": [
            "[0 1 2 4 5 6 7 8 9]\n"
          ]
        }
      ]
    },
    {
      "cell_type": "markdown",
      "metadata": {
        "id": "F0u9Tf_pRoKR"
      },
      "source": [
        "Store in an array the names of the months.\n",
        "\n"
      ]
    },
    {
      "cell_type": "code",
      "metadata": {
        "id": "a6trOwrmSAg6"
      },
      "source": [
        "months = np.array([\"enero\", \"febrero\", \"marzo\", \"abril\", \"junio\", \"julio\", \"agosto\",\"septiembre\", \"octubre\",\"noviembre\",\"diciembre\"])\n"
      ],
      "execution_count": null,
      "outputs": []
    },
    {
      "cell_type": "markdown",
      "metadata": {
        "id": "zMHje9-zRqrR"
      },
      "source": [
        "Split the months array in 4 periods of 3 elements each one.\n",
        "\n"
      ]
    },
    {
      "cell_type": "code",
      "metadata": {
        "id": "jht0_5-iR_xn",
        "colab": {
          "base_uri": "https://localhost:8080/"
        },
        "outputId": "51001dbf-a64a-4cda-d2dc-0de3062d0253"
      },
      "source": [
        "months = np.array([\"enero\", \"febrero\", \"marzo\", \"abril\", \"junio\", \"julio\", \"agosto\",\"septiembre\", \"octubre\",\"noviembre\",\"diciembre\"])\n",
        "newmonths = np.array_split(months, 4)\n",
        "newmonths"
      ],
      "execution_count": 30,
      "outputs": [
        {
          "output_type": "execute_result",
          "data": {
            "text/plain": [
              "[array(['enero', 'febrero', 'marzo'], dtype='<U10'),\n",
              " array(['abril', 'junio', 'julio'], dtype='<U10'),\n",
              " array(['agosto', 'septiembre', 'octubre'], dtype='<U10'),\n",
              " array(['noviembre', 'diciembre'], dtype='<U10')]"
            ]
          },
          "metadata": {},
          "execution_count": 30
        }
      ]
    },
    {
      "cell_type": "markdown",
      "metadata": {
        "id": "ukxoOg5rRtkJ"
      },
      "source": [
        "Create an array with genre information ['F','M','F','F','M','F'].\n",
        "\n"
      ]
    },
    {
      "cell_type": "code",
      "metadata": {
        "id": "GZLCMD2OR-4G"
      },
      "source": [
        "genre = np.array(['F','M','F','F','M','F'])"
      ],
      "execution_count": null,
      "outputs": []
    },
    {
      "cell_type": "markdown",
      "metadata": {
        "id": "VlLwuy-ERvzu"
      },
      "source": [
        "Find the indexes where the value is F.\n",
        "\n"
      ]
    },
    {
      "cell_type": "code",
      "metadata": {
        "id": "dx0LCoSAR9-w",
        "colab": {
          "base_uri": "https://localhost:8080/"
        },
        "outputId": "41a2ec1f-5f64-4c7c-c15a-ed272f4957a2"
      },
      "source": [
        "genre = np.array(['F','M','F','F','M','F'])\n",
        "x = np.where(genre == 'F')\n",
        "x"
      ],
      "execution_count": 35,
      "outputs": [
        {
          "output_type": "execute_result",
          "data": {
            "text/plain": [
              "(array([0, 2, 3, 5]),)"
            ]
          },
          "metadata": {},
          "execution_count": 35
        }
      ]
    },
    {
      "cell_type": "markdown",
      "metadata": {
        "id": "y0Uk475sRytB"
      },
      "source": [
        "Store in an array the age information [18,20,19,23,19,20].\n",
        "\n"
      ]
    },
    {
      "cell_type": "code",
      "metadata": {
        "id": "tABLVP7gR9QP"
      },
      "source": [
        "age = np.array([18,20,19,23,19,20])"
      ],
      "execution_count": null,
      "outputs": []
    },
    {
      "cell_type": "markdown",
      "metadata": {
        "id": "D-VswLqJR05A"
      },
      "source": [
        "Create a filter array with values < 20.\n",
        "\n"
      ]
    },
    {
      "cell_type": "code",
      "metadata": {
        "id": "tk4jIi3pR8aZ",
        "colab": {
          "base_uri": "https://localhost:8080/"
        },
        "outputId": "d8ac581f-5273-4ffb-c2ff-06606a9873ff"
      },
      "source": [
        "age = np.array([18,20,19,23,19,20])\n",
        "filter_age = []\n",
        "\n",
        "# go through each element in arr\n",
        "for element in age:\n",
        "  # if the element is higher than 42, set the value to True, otherwise False:\n",
        "  if element < 20:\n",
        "    filter_age.append(True)\n",
        "  else:\n",
        "    filter_age.append(False)\n",
        "\n",
        "newarr = age[filter_age]\n",
        "\n",
        "print(filter_age)\n",
        "print(newarr)"
      ],
      "execution_count": 36,
      "outputs": [
        {
          "output_type": "stream",
          "name": "stdout",
          "text": [
            "[True, False, True, False, True, False]\n",
            "[18 19 19]\n"
          ]
        }
      ]
    },
    {
      "cell_type": "markdown",
      "metadata": {
        "id": "aiGbZbwHR3CJ"
      },
      "source": [
        "Change the 3 index element with a value of 22\n",
        "\n"
      ]
    },
    {
      "cell_type": "code",
      "metadata": {
        "id": "OMpH-wT6R7iK",
        "colab": {
          "base_uri": "https://localhost:8080/"
        },
        "outputId": "bbb9cc16-9637-4fd3-eb34-8d10393345f6"
      },
      "source": [
        "age[3]=22\n",
        "age"
      ],
      "execution_count": 37,
      "outputs": [
        {
          "output_type": "execute_result",
          "data": {
            "text/plain": [
              "array([18, 20, 19, 22, 19, 20])"
            ]
          },
          "metadata": {},
          "execution_count": 37
        }
      ]
    },
    {
      "cell_type": "markdown",
      "metadata": {
        "id": "0DELnRV_R5Df"
      },
      "source": [
        "Print the 4 index element."
      ]
    },
    {
      "cell_type": "code",
      "metadata": {
        "id": "SOg99cxZR6ZX",
        "colab": {
          "base_uri": "https://localhost:8080/"
        },
        "outputId": "a07951b4-c767-428e-e7f9-df25424edebd"
      },
      "source": [
        "print(age[4])"
      ],
      "execution_count": 38,
      "outputs": [
        {
          "output_type": "stream",
          "name": "stdout",
          "text": [
            "19\n"
          ]
        }
      ]
    }
  ]
}